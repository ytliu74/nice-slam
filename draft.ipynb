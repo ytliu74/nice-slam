{
 "cells": [
  {
   "cell_type": "code",
   "execution_count": 2,
   "metadata": {},
   "outputs": [],
   "source": [
    "import torch"
   ]
  },
  {
   "cell_type": "code",
   "execution_count": 3,
   "metadata": {},
   "outputs": [],
   "source": [
    "ckpt = torch.load(\"./pretrained/coarse.pt\")"
   ]
  },
  {
   "cell_type": "code",
   "execution_count": 4,
   "metadata": {},
   "outputs": [
    {
     "name": "stdout",
     "output_type": "stream",
     "text": [
      "pts_linears.0.weight\n",
      "pts_linears.0.bias\n",
      "pts_linears.1.weight\n",
      "pts_linears.1.bias\n",
      "pts_linears.2.weight\n",
      "pts_linears.2.bias\n",
      "pts_linears.3.weight\n",
      "pts_linears.3.bias\n",
      "pts_linears.4.weight\n",
      "pts_linears.4.bias\n",
      "output_linear.weight\n",
      "output_linear.bias\n"
     ]
    }
   ],
   "source": [
    "for key, val in ckpt['model'].items():\n",
    "    if ('decoder' in key) and ('encoder' not in key):\n",
    "        key = key[8:]\n",
    "        print(key)"
   ]
  },
  {
   "cell_type": "code",
   "execution_count": null,
   "metadata": {},
   "outputs": [],
   "source": []
  }
 ],
 "metadata": {
  "kernelspec": {
   "display_name": "nice-slam",
   "language": "python",
   "name": "python3"
  },
  "language_info": {
   "codemirror_mode": {
    "name": "ipython",
    "version": 3
   },
   "file_extension": ".py",
   "mimetype": "text/x-python",
   "name": "python",
   "nbconvert_exporter": "python",
   "pygments_lexer": "ipython3",
   "version": "3.7.11"
  }
 },
 "nbformat": 4,
 "nbformat_minor": 2
}
