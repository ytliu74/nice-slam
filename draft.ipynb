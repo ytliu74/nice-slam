{
 "cells": [
  {
   "cell_type": "code",
   "execution_count": 1,
   "metadata": {},
   "outputs": [],
   "source": [
    "import torch"
   ]
  },
  {
   "cell_type": "code",
   "execution_count": 2,
   "metadata": {},
   "outputs": [],
   "source": [
    "import src.config as config\n",
    "\n",
    "cfg = config.load_config(\"./configs/Replica/room0.yaml\", \"./configs/nice_slam.yaml\")"
   ]
  },
  {
   "cell_type": "code",
   "execution_count": 3,
   "metadata": {},
   "outputs": [],
   "source": [
    "import src.conv_onet.models.decoder as decoder\n",
    "from torchsummary import summary\n",
    "\n",
    "nn = decoder.NICE(hidden_size=16, coarse=True).to(\"cuda:0\")\n"
   ]
  },
  {
   "cell_type": "code",
   "execution_count": 6,
   "metadata": {},
   "outputs": [
    {
     "name": "stdout",
     "output_type": "stream",
     "text": [
      "===========================================================================\n",
      "Layer (type:depth-idx)                             Param #\n",
      "===========================================================================\n",
      "├─MLP_no_xyz: 1-1                                  --\n",
      "|    └─ModuleList: 2-1                             --\n",
      "|    |    └─DenseLayer: 3-1                        528\n",
      "|    |    └─DenseLayer: 3-2                        272\n",
      "|    |    └─DenseLayer: 3-3                        272\n",
      "|    |    └─DenseLayer: 3-4                        784\n",
      "|    |    └─DenseLayer: 3-5                        272\n",
      "|    └─DenseLayer: 2-2                             17\n",
      "├─MLP: 1-2                                         --\n",
      "|    └─ModuleList: 2-3                             --\n",
      "|    |    └─Linear: 3-6                            528\n",
      "|    |    └─Linear: 3-7                            528\n",
      "|    |    └─Linear: 3-8                            528\n",
      "|    |    └─Linear: 3-9                            528\n",
      "|    |    └─Linear: 3-10                           528\n",
      "|    └─GaussianFourierFeatureTransform: 2-4        279\n",
      "|    └─ModuleList: 2-5                             --\n",
      "|    |    └─DenseLayer: 3-11                       1,504\n",
      "|    |    └─DenseLayer: 3-12                       272\n",
      "|    |    └─DenseLayer: 3-13                       272\n",
      "|    |    └─DenseLayer: 3-14                       1,760\n",
      "|    |    └─DenseLayer: 3-15                       272\n",
      "|    └─DenseLayer: 2-6                             17\n",
      "├─MLP: 1-3                                         --\n",
      "|    └─ModuleList: 2-7                             --\n",
      "|    |    └─Linear: 3-16                           1,040\n",
      "|    |    └─Linear: 3-17                           1,040\n",
      "|    |    └─Linear: 3-18                           1,040\n",
      "|    |    └─Linear: 3-19                           1,040\n",
      "|    |    └─Linear: 3-20                           1,040\n",
      "|    └─GaussianFourierFeatureTransform: 2-8        279\n",
      "|    └─ModuleList: 2-9                             --\n",
      "|    |    └─DenseLayer: 3-21                       1,504\n",
      "|    |    └─DenseLayer: 3-22                       272\n",
      "|    |    └─DenseLayer: 3-23                       272\n",
      "|    |    └─DenseLayer: 3-24                       1,760\n",
      "|    |    └─DenseLayer: 3-25                       272\n",
      "|    └─DenseLayer: 2-10                            17\n",
      "├─MLP: 1-4                                         --\n",
      "|    └─ModuleList: 2-11                            --\n",
      "|    |    └─Linear: 3-26                           528\n",
      "|    |    └─Linear: 3-27                           528\n",
      "|    |    └─Linear: 3-28                           528\n",
      "|    |    └─Linear: 3-29                           528\n",
      "|    |    └─Linear: 3-30                           528\n",
      "|    └─GaussianFourierFeatureTransform: 2-12       279\n",
      "|    └─ModuleList: 2-13                            --\n",
      "|    |    └─DenseLayer: 3-31                       1,504\n",
      "|    |    └─DenseLayer: 3-32                       272\n",
      "|    |    └─DenseLayer: 3-33                       272\n",
      "|    |    └─DenseLayer: 3-34                       1,760\n",
      "|    |    └─DenseLayer: 3-35                       272\n",
      "|    └─DenseLayer: 2-14                            68\n",
      "===========================================================================\n",
      "Total params: 25,804\n",
      "Trainable params: 25,804\n",
      "Non-trainable params: 0\n",
      "===========================================================================\n"
     ]
    },
    {
     "data": {
      "text/plain": [
       "===========================================================================\n",
       "Layer (type:depth-idx)                             Param #\n",
       "===========================================================================\n",
       "├─MLP_no_xyz: 1-1                                  --\n",
       "|    └─ModuleList: 2-1                             --\n",
       "|    |    └─DenseLayer: 3-1                        528\n",
       "|    |    └─DenseLayer: 3-2                        272\n",
       "|    |    └─DenseLayer: 3-3                        272\n",
       "|    |    └─DenseLayer: 3-4                        784\n",
       "|    |    └─DenseLayer: 3-5                        272\n",
       "|    └─DenseLayer: 2-2                             17\n",
       "├─MLP: 1-2                                         --\n",
       "|    └─ModuleList: 2-3                             --\n",
       "|    |    └─Linear: 3-6                            528\n",
       "|    |    └─Linear: 3-7                            528\n",
       "|    |    └─Linear: 3-8                            528\n",
       "|    |    └─Linear: 3-9                            528\n",
       "|    |    └─Linear: 3-10                           528\n",
       "|    └─GaussianFourierFeatureTransform: 2-4        279\n",
       "|    └─ModuleList: 2-5                             --\n",
       "|    |    └─DenseLayer: 3-11                       1,504\n",
       "|    |    └─DenseLayer: 3-12                       272\n",
       "|    |    └─DenseLayer: 3-13                       272\n",
       "|    |    └─DenseLayer: 3-14                       1,760\n",
       "|    |    └─DenseLayer: 3-15                       272\n",
       "|    └─DenseLayer: 2-6                             17\n",
       "├─MLP: 1-3                                         --\n",
       "|    └─ModuleList: 2-7                             --\n",
       "|    |    └─Linear: 3-16                           1,040\n",
       "|    |    └─Linear: 3-17                           1,040\n",
       "|    |    └─Linear: 3-18                           1,040\n",
       "|    |    └─Linear: 3-19                           1,040\n",
       "|    |    └─Linear: 3-20                           1,040\n",
       "|    └─GaussianFourierFeatureTransform: 2-8        279\n",
       "|    └─ModuleList: 2-9                             --\n",
       "|    |    └─DenseLayer: 3-21                       1,504\n",
       "|    |    └─DenseLayer: 3-22                       272\n",
       "|    |    └─DenseLayer: 3-23                       272\n",
       "|    |    └─DenseLayer: 3-24                       1,760\n",
       "|    |    └─DenseLayer: 3-25                       272\n",
       "|    └─DenseLayer: 2-10                            17\n",
       "├─MLP: 1-4                                         --\n",
       "|    └─ModuleList: 2-11                            --\n",
       "|    |    └─Linear: 3-26                           528\n",
       "|    |    └─Linear: 3-27                           528\n",
       "|    |    └─Linear: 3-28                           528\n",
       "|    |    └─Linear: 3-29                           528\n",
       "|    |    └─Linear: 3-30                           528\n",
       "|    └─GaussianFourierFeatureTransform: 2-12       279\n",
       "|    └─ModuleList: 2-13                            --\n",
       "|    |    └─DenseLayer: 3-31                       1,504\n",
       "|    |    └─DenseLayer: 3-32                       272\n",
       "|    |    └─DenseLayer: 3-33                       272\n",
       "|    |    └─DenseLayer: 3-34                       1,760\n",
       "|    |    └─DenseLayer: 3-35                       272\n",
       "|    └─DenseLayer: 2-14                            68\n",
       "===========================================================================\n",
       "Total params: 25,804\n",
       "Trainable params: 25,804\n",
       "Non-trainable params: 0\n",
       "==========================================================================="
      ]
     },
     "execution_count": 6,
     "metadata": {},
     "output_type": "execute_result"
    }
   ],
   "source": [
    "summary(decoder.NICE(hidden_size=16, coarse=True))"
   ]
  },
  {
   "cell_type": "code",
   "execution_count": 5,
   "metadata": {},
   "outputs": [],
   "source": [
    "import numpy as np\n",
    "\n",
    "def load_pretrain(nice: decoder.NICE, cfg: dict):\n",
    "    ckpt = torch.load(cfg['pretrained_decoders']['coarse'], map_location=cfg['mapping']['device'])\n",
    "    coarse_dict = {}\n",
    "    for key, val in ckpt['model'].items():\n",
    "        if ('decoder' in key) and ('encoder' not in key):\n",
    "            key = key[8:]\n",
    "            coarse_dict[key] = val\n",
    "    nice.coarse_decoder.load_state_dict(coarse_dict)\n",
    "\n",
    "    ckpt = torch.load(cfg['pretrained_decoders']['middle_fine'], map_location=cfg['mapping']['device'])\n",
    "    middle_dict = {}\n",
    "    fine_dict = {}\n",
    "    for key, val in ckpt['model'].items():\n",
    "        if ('decoder' in key) and ('encoder' not in key):\n",
    "            if 'coarse' in key:\n",
    "                key = key[8+7:]\n",
    "                middle_dict[key] = val\n",
    "            elif 'fine' in key:\n",
    "                key = key[8+5:]\n",
    "                fine_dict[key] = val\n",
    "    nice.middle_decoder.load_state_dict(middle_dict)\n",
    "    nice.fine_decoder.load_state_dict(fine_dict)\n",
    "\n",
    "    scale = cfg['scale']\n",
    "\n",
    "    bound = torch.from_numpy(np.array(cfg['mapping']['bound'])*scale)\n",
    "    bound_divisible = cfg['grid_len']['bound_divisible']\n",
    "    bound[:, 1] = (((bound[:, 1]-bound[:, 0]) /\n",
    "        bound_divisible).int()+1)*bound_divisible+bound[:, 0]\n",
    "\n",
    "    nice.bound = bound\n",
    "    nice.middle_decoder.bound = bound\n",
    "    nice.fine_decoder.bound = bound\n",
    "    nice.color_decoder.bound = bound\n",
    "    nice.coarse_decoder.bound = bound * cfg['model']['coarse_bound_enlarge']"
   ]
  },
  {
   "cell_type": "code",
   "execution_count": 6,
   "metadata": {},
   "outputs": [],
   "source": [
    "load_pretrain(nn, cfg)"
   ]
  },
  {
   "cell_type": "code",
   "execution_count": 17,
   "metadata": {},
   "outputs": [
    {
     "name": "stdout",
     "output_type": "stream",
     "text": [
      "torch.Size([1, 32000, 3]) torch.Size([1, 32, 7, 8, 11])\n"
     ]
    }
   ],
   "source": [
    "import os\n",
    "\n",
    "stages = [\"coarse\", \"middle\", \"fine\", \"color\"]\n",
    "\n",
    "for stage in stages[:1]:\n",
    "    for pt in os.listdir(f\"./saved_inputs/{stage}\")[:1]:\n",
    "        data = torch.load(f\"./saved_inputs/{stage}/{pt}\")\n",
    "        pi = data['pi'].to(cfg['mapping']['device'])\n",
    "        c = data['c']\n",
    "        # print(summary(nn, input_data=(pi, c[f\"grid_{stage}\"], stage)))\n",
    "        print(pi.shape, c[f\"grid_{stage}\"].shape)"
   ]
  },
  {
   "cell_type": "markdown",
   "metadata": {},
   "source": []
  }
 ],
 "metadata": {
  "kernelspec": {
   "display_name": "nice-slam",
   "language": "python",
   "name": "python3"
  },
  "language_info": {
   "codemirror_mode": {
    "name": "ipython",
    "version": 3
   },
   "file_extension": ".py",
   "mimetype": "text/x-python",
   "name": "python",
   "nbconvert_exporter": "python",
   "pygments_lexer": "ipython3",
   "version": "3.7.11"
  }
 },
 "nbformat": 4,
 "nbformat_minor": 2
}
