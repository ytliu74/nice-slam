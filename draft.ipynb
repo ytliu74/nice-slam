{
 "cells": [
  {
   "cell_type": "code",
   "execution_count": 1,
   "metadata": {},
   "outputs": [],
   "source": [
    "import torch"
   ]
  },
  {
   "cell_type": "code",
   "execution_count": 12,
   "metadata": {},
   "outputs": [],
   "source": [
    "import src.conv_onet.models.decoder as decoder\n",
    "from torchsummary import summary\n",
    "\n",
    "nn = decoder.NICE(coarse=True).to(\"cuda:0\")"
   ]
  },
  {
   "cell_type": "code",
   "execution_count": 13,
   "metadata": {},
   "outputs": [],
   "source": [
    "import src.config as config\n",
    "\n",
    "cfg = config.load_config(\"./configs/Replica/room0.yaml\", \"./configs/nice_slam.yaml\")"
   ]
  },
  {
   "cell_type": "code",
   "execution_count": 14,
   "metadata": {},
   "outputs": [],
   "source": [
    "import numpy as np\n",
    "\n",
    "def load_pretrain(nice: decoder.NICE, cfg: dict):\n",
    "    ckpt = torch.load(cfg['pretrained_decoders']['coarse'], map_location=cfg['mapping']['device'])\n",
    "    coarse_dict = {}\n",
    "    for key, val in ckpt['model'].items():\n",
    "        if ('decoder' in key) and ('encoder' not in key):\n",
    "            key = key[8:]\n",
    "            coarse_dict[key] = val\n",
    "    nice.coarse_decoder.load_state_dict(coarse_dict)\n",
    "\n",
    "    ckpt = torch.load(cfg['pretrained_decoders']['middle_fine'], map_location=cfg['mapping']['device'])\n",
    "    middle_dict = {}\n",
    "    fine_dict = {}\n",
    "    for key, val in ckpt['model'].items():\n",
    "        if ('decoder' in key) and ('encoder' not in key):\n",
    "            if 'coarse' in key:\n",
    "                key = key[8+7:]\n",
    "                middle_dict[key] = val\n",
    "            elif 'fine' in key:\n",
    "                key = key[8+5:]\n",
    "                fine_dict[key] = val\n",
    "    nice.middle_decoder.load_state_dict(middle_dict)\n",
    "    nice.fine_decoder.load_state_dict(fine_dict)\n",
    "\n",
    "    scale = cfg['scale']\n",
    "\n",
    "    bound = torch.from_numpy(np.array(cfg['mapping']['bound'])*scale)\n",
    "    bound_divisible = cfg['grid_len']['bound_divisible']\n",
    "    bound[:, 1] = (((bound[:, 1]-bound[:, 0]) /\n",
    "        bound_divisible).int()+1)*bound_divisible+bound[:, 0]\n",
    "\n",
    "    nice.bound = bound\n",
    "    nice.middle_decoder.bound = bound\n",
    "    nice.fine_decoder.bound = bound\n",
    "    nice.color_decoder.bound = bound\n",
    "    nice.coarse_decoder.bound = bound * cfg['model']['coarse_bound_enlarge']"
   ]
  },
  {
   "cell_type": "code",
   "execution_count": 15,
   "metadata": {},
   "outputs": [],
   "source": [
    "load_pretrain(nn, cfg)"
   ]
  },
  {
   "cell_type": "code",
   "execution_count": 16,
   "metadata": {},
   "outputs": [
    {
     "name": "stdout",
     "output_type": "stream",
     "text": [
      "tensor([[ 0.0000,  0.0000,  0.0000, -0.3813],\n",
      "        [ 0.0000,  0.0000,  0.0000, -0.3852],\n",
      "        [ 0.0000,  0.0000,  0.0000, -0.3897],\n",
      "        ...,\n",
      "        [ 0.0000,  0.0000,  0.0000, -0.3147],\n",
      "        [ 0.0000,  0.0000,  0.0000, -0.3317],\n",
      "        [ 0.0000,  0.0000,  0.0000, -0.3433]], device='cuda:0',\n",
      "       grad_fn=<CopySlices>)\n",
      "tensor([[  0.0000,   0.0000,   0.0000, -11.6233],\n",
      "        [  0.0000,   0.0000,   0.0000, -23.5235],\n",
      "        [  0.0000,   0.0000,   0.0000, -29.4617],\n",
      "        ...,\n",
      "        [  0.0000,   0.0000,   0.0000,   0.7864],\n",
      "        [  0.0000,   0.0000,   0.0000,   0.5811],\n",
      "        [  0.0000,   0.0000,   0.0000,   0.7785]], device='cuda:0',\n",
      "       grad_fn=<CopySlices>)\n",
      "tensor([[  0.0000,   0.0000,   0.0000, -12.9238],\n",
      "        [  0.0000,   0.0000,   0.0000, -15.6941],\n",
      "        [  0.0000,   0.0000,   0.0000, -16.8855],\n",
      "        ...,\n",
      "        [  0.0000,   0.0000,   0.0000,   0.7165],\n",
      "        [  0.0000,   0.0000,   0.0000,   0.8789],\n",
      "        [  0.0000,   0.0000,   0.0000,   0.8814]], device='cuda:0',\n",
      "       grad_fn=<CopySlices>)\n",
      "tensor([[ -0.7062,   0.3419,   0.3195, -12.6789],\n",
      "        [ -0.5178,   0.1816,  -1.4112, -13.3138],\n",
      "        [ -1.1914,   0.8521,  -1.1035, -17.8968],\n",
      "        ...,\n",
      "        [  0.2803,   0.0458,   0.8092,   0.8717],\n",
      "        [ -1.2244,   0.5508,   0.2013,   0.9568],\n",
      "        [ -1.5730,   0.9739,  -0.8145,   0.7065]], device='cuda:0',\n",
      "       grad_fn=<CopySlices>)\n"
     ]
    }
   ],
   "source": [
    "import os\n",
    "\n",
    "stages = [\"coarse\", \"middle\", \"fine\", \"color\"]\n",
    "\n",
    "for stage in stages:\n",
    "    for pt in os.listdir(f\"./saved_inputs/{stage}\")[:1]:\n",
    "        data = torch.load(f\"./saved_inputs/{stage}/{pt}\")\n",
    "        pi = data['pi'].to(cfg['mapping']['device'])\n",
    "        c = data['c']\n",
    "        print(nn(pi, c_grid=c, stage=stage))"
   ]
  },
  {
   "cell_type": "code",
   "execution_count": null,
   "metadata": {},
   "outputs": [],
   "source": []
  }
 ],
 "metadata": {
  "kernelspec": {
   "display_name": "nice-slam",
   "language": "python",
   "name": "python3"
  },
  "language_info": {
   "codemirror_mode": {
    "name": "ipython",
    "version": 3
   },
   "file_extension": ".py",
   "mimetype": "text/x-python",
   "name": "python",
   "nbconvert_exporter": "python",
   "pygments_lexer": "ipython3",
   "version": "3.7.11"
  }
 },
 "nbformat": 4,
 "nbformat_minor": 2
}
