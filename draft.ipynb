{
 "cells": [
  {
   "cell_type": "code",
   "execution_count": 1,
   "metadata": {},
   "outputs": [],
   "source": [
    "import torch"
   ]
  },
  {
   "cell_type": "code",
   "execution_count": 12,
   "metadata": {},
   "outputs": [
    {
     "name": "stdout",
     "output_type": "stream",
     "text": [
      "=================================================================\n",
      "Layer (type:depth-idx)                   Param #\n",
      "=================================================================\n",
      "├─ModuleList: 1-1                        --\n",
      "|    └─DenseLayer: 2-1                   65,792\n",
      "|    └─DenseLayer: 2-2                   65,792\n",
      "|    └─DenseLayer: 2-3                   65,792\n",
      "|    └─DenseLayer: 2-4                   98,560\n",
      "|    └─DenseLayer: 2-5                   65,792\n",
      "├─DenseLayer: 1-2                        257\n",
      "=================================================================\n",
      "Total params: 361,985\n",
      "Trainable params: 361,985\n",
      "Non-trainable params: 0\n",
      "=================================================================\n",
      "=================================================================\n",
      "Layer (type:depth-idx)                   Param #\n",
      "=================================================================\n",
      "├─ModuleList: 1-1                        --\n",
      "|    └─DenseLayer: 2-1                   65,792\n",
      "|    └─DenseLayer: 2-2                   65,792\n",
      "|    └─DenseLayer: 2-3                   65,792\n",
      "|    └─DenseLayer: 2-4                   98,560\n",
      "|    └─DenseLayer: 2-5                   65,792\n",
      "├─DenseLayer: 1-2                        257\n",
      "=================================================================\n",
      "Total params: 361,985\n",
      "Trainable params: 361,985\n",
      "Non-trainable params: 0\n",
      "=================================================================\n"
     ]
    }
   ],
   "source": [
    "import src.conv_onet.models.decoder as decoder\n",
    "from torchsummary import summary\n",
    "\n",
    "nn = decoder.NICE(coarse=True).to(\"cuda:0\")\n",
    "\n",
    "print(summary(decoder.MLP_no_xyz()))"
   ]
  },
  {
   "cell_type": "code",
   "execution_count": 4,
   "metadata": {},
   "outputs": [],
   "source": [
    "import src.config as config\n",
    "\n",
    "cfg = config.load_config(\"./configs/Replica/room0.yaml\", \"./configs/nice_slam.yaml\")"
   ]
  },
  {
   "cell_type": "code",
   "execution_count": 8,
   "metadata": {},
   "outputs": [],
   "source": [
    "import numpy as np\n",
    "\n",
    "def load_pretrain(nice: decoder.NICE, cfg: dict):\n",
    "    ckpt = torch.load(cfg['pretrained_decoders']['coarse'], map_location=cfg['mapping']['device'])\n",
    "    coarse_dict = {}\n",
    "    for key, val in ckpt['model'].items():\n",
    "        if ('decoder' in key) and ('encoder' not in key):\n",
    "            key = key[8:]\n",
    "            coarse_dict[key] = val\n",
    "    nice.coarse_decoder.load_state_dict(coarse_dict)\n",
    "\n",
    "    ckpt = torch.load(cfg['pretrained_decoders']['middle_fine'], map_location=cfg['mapping']['device'])\n",
    "    middle_dict = {}\n",
    "    fine_dict = {}\n",
    "    for key, val in ckpt['model'].items():\n",
    "        if ('decoder' in key) and ('encoder' not in key):\n",
    "            if 'coarse' in key:\n",
    "                key = key[8+7:]\n",
    "                middle_dict[key] = val\n",
    "            elif 'fine' in key:\n",
    "                key = key[8+5:]\n",
    "                fine_dict[key] = val\n",
    "    nice.middle_decoder.load_state_dict(middle_dict)\n",
    "    nice.fine_decoder.load_state_dict(fine_dict)\n",
    "\n",
    "    scale = cfg['scale']\n",
    "\n",
    "    bound = torch.from_numpy(np.array(cfg['mapping']['bound'])*scale)\n",
    "    bound_divisible = cfg['grid_len']['bound_divisible']\n",
    "    bound[:, 1] = (((bound[:, 1]-bound[:, 0]) /\n",
    "        bound_divisible).int()+1)*bound_divisible+bound[:, 0]\n",
    "\n",
    "    nice.bound = bound\n",
    "    nice.middle_decoder.bound = bound\n",
    "    nice.fine_decoder.bound = bound\n",
    "    nice.color_decoder.bound = bound\n",
    "    nice.coarse_decoder.bound = bound * cfg['model']['coarse_bound_enlarge']"
   ]
  },
  {
   "cell_type": "code",
   "execution_count": 9,
   "metadata": {},
   "outputs": [],
   "source": [
    "load_pretrain(nn, cfg)"
   ]
  },
  {
   "cell_type": "code",
   "execution_count": 10,
   "metadata": {},
   "outputs": [
    {
     "name": "stdout",
     "output_type": "stream",
     "text": [
      "torch.Size([32000, 4])\n",
      "torch.Size([32000, 4])\n",
      "torch.Size([32000, 4])\n",
      "torch.Size([32000, 4])\n",
      "torch.Size([32000, 4])\n",
      "torch.Size([32000, 4])\n",
      "torch.Size([32000, 4])\n",
      "torch.Size([32000, 4])\n",
      "torch.Size([32000, 4])\n",
      "torch.Size([32000, 4])\n",
      "torch.Size([47952, 4])\n",
      "torch.Size([47952, 4])\n",
      "torch.Size([48000, 4])\n",
      "torch.Size([48000, 4])\n",
      "torch.Size([48000, 4])\n",
      "torch.Size([48000, 4])\n",
      "torch.Size([47952, 4])\n",
      "torch.Size([48000, 4])\n",
      "torch.Size([48000, 4])\n",
      "torch.Size([48000, 4])\n",
      "torch.Size([48000, 4])\n",
      "torch.Size([48000, 4])\n",
      "torch.Size([48000, 4])\n",
      "torch.Size([48000, 4])\n",
      "torch.Size([48000, 4])\n",
      "torch.Size([47952, 4])\n",
      "torch.Size([48000, 4])\n",
      "torch.Size([48000, 4])\n",
      "torch.Size([48000, 4])\n",
      "torch.Size([48000, 4])\n",
      "torch.Size([48000, 4])\n",
      "torch.Size([48000, 4])\n",
      "torch.Size([48000, 4])\n",
      "torch.Size([9600, 4])\n",
      "torch.Size([48000, 4])\n",
      "torch.Size([9600, 4])\n",
      "torch.Size([48000, 4])\n",
      "torch.Size([9600, 4])\n",
      "torch.Size([48000, 4])\n",
      "torch.Size([9600, 4])\n"
     ]
    }
   ],
   "source": [
    "import os\n",
    "\n",
    "stages = [\"coarse\", \"middle\", \"fine\", \"color\"]\n",
    "\n",
    "for stage in stages:\n",
    "    for pt in os.listdir(f\"./saved_inputs/{stage}\")[:10]:\n",
    "        data = torch.load(f\"./saved_inputs/{stage}/{pt}\")\n",
    "        pi = data['pi'].to(cfg['mapping']['device'])\n",
    "        c = data['c']\n",
    "        print(nn(pi, c_grid=c, stage=stage).shape)"
   ]
  },
  {
   "cell_type": "code",
   "execution_count": 19,
   "metadata": {},
   "outputs": [
    {
     "data": {
      "image/png": "[encoded data removed]",
      "text/plain": [
       "<Figure size 432x288 with 1 Axes>"
      ]
     },
     "metadata": {
      "needs_background": "light"
     },
     "output_type": "display_data"
    }
   ],
   "source": [
    "import pickle\n",
    "\n",
    "with open(\"loss_record.pkl\", \"rb\") as f:\n",
    "    loss_record = pickle.load(f)\n",
    "\n",
    "import matplotlib.pyplot as plt\n",
    "\n",
    "# Use log-scale to show the loss\n",
    "\n",
    "# plt.plot(loss_record['coarse'])\n",
    "# plt.plot(loss_record['middle'])\n",
    "# plt.plot(loss_record['fine'])\n",
    "plt.plot(loss_record['color'])\n",
    "# plt.yscale('log') \n",
    "\n",
    "plt.legend(['coarse', 'middle', 'fine', 'color'])\n",
    "plt.xlabel('iteration')\n",
    "plt.ylabel('loss')\n",
    "plt.show()\n"
   ]
  }
 ],
 "metadata": {
  "kernelspec": {
   "display_name": "nice-slam",
   "language": "python",
   "name": "python3"
  },
  "language_info": {
   "codemirror_mode": {
    "name": "ipython",
    "version": 3
   },
   "file_extension": ".py",
   "mimetype": "text/x-python",
   "name": "python",
   "nbconvert_exporter": "python",
   "pygments_lexer": "ipython3",
   "version": "3.7.11"
  }
 },
 "nbformat": 4,
 "nbformat_minor": 2
}
